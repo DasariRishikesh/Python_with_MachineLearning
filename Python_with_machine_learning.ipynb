{
  "nbformat": 4,
  "nbformat_minor": 0,
  "metadata": {
    "colab": {
      "provenance": [],
      "authorship_tag": "ABX9TyPiTfwlm/uRIkHaBHqJQsUZ",
      "include_colab_link": true
    },
    "kernelspec": {
      "name": "python3",
      "display_name": "Python 3"
    },
    "language_info": {
      "name": "python"
    }
  },
  "cells": [
    {
      "cell_type": "markdown",
      "metadata": {
        "id": "view-in-github",
        "colab_type": "text"
      },
      "source": [
        "<a href=\"https://colab.research.google.com/github/DasariRishikesh/Python_with_MachineLearning/blob/main/Python_with_machine_learning.ipynb\" target=\"_parent\"><img src=\"https://colab.research.google.com/assets/colab-badge.svg\" alt=\"Open In Colab\"/></a>"
      ]
    },
    {
      "cell_type": "markdown",
      "source": [
        "#Pyhton with Machine Learning"
      ],
      "metadata": {
        "id": "1GhqwWto624s"
      }
    },
    {
      "cell_type": "markdown",
      "source": [
        "##Numpy"
      ],
      "metadata": {
        "id": "iUNY7szm_To7"
      }
    },
    {
      "cell_type": "markdown",
      "source": [
        "#### Introduction to numpy"
      ],
      "metadata": {
        "id": "QiILOzPA_nfc"
      }
    },
    {
      "cell_type": "code",
      "execution_count": null,
      "metadata": {
        "id": "q6eVp4Jj6b_P"
      },
      "outputs": [],
      "source": [
        "import numpy as np\n",
        "a = np.array([1,2,3,4])"
      ]
    },
    {
      "cell_type": "markdown",
      "source": [
        "*  Intialize array"
      ],
      "metadata": {
        "id": "Hx9X_aOY8xcm"
      }
    },
    {
      "cell_type": "code",
      "source": [
        "a"
      ],
      "metadata": {
        "colab": {
          "base_uri": "https://localhost:8080/"
        },
        "id": "m9RwDOFx6vtb",
        "outputId": "81c6cad0-fe46-4054-92e9-7fb697fa84df"
      },
      "execution_count": null,
      "outputs": [
        {
          "output_type": "execute_result",
          "data": {
            "text/plain": [
              "array([1, 2, 3, 4])"
            ]
          },
          "metadata": {},
          "execution_count": 2
        }
      ]
    },
    {
      "cell_type": "code",
      "source": [
        "a2 = np.array([[1,2,3,4,5],[10,20,30,40]])"
      ],
      "metadata": {
        "colab": {
          "base_uri": "https://localhost:8080/"
        },
        "id": "pBiNDzuu6yc5",
        "outputId": "7fdeffb8-4219-4dd7-d904-651d5aea17e6"
      },
      "execution_count": null,
      "outputs": [
        {
          "output_type": "stream",
          "name": "stderr",
          "text": [
            "<ipython-input-18-ac16d04e47d0>:1: VisibleDeprecationWarning: Creating an ndarray from ragged nested sequences (which is a list-or-tuple of lists-or-tuples-or ndarrays with different lengths or shapes) is deprecated. If you meant to do this, you must specify 'dtype=object' when creating the ndarray.\n",
            "  a2 = np.array([[1,2,3,4,5],[10,20,30,40]])\n"
          ]
        }
      ]
    },
    {
      "cell_type": "code",
      "source": [
        "a2"
      ],
      "metadata": {
        "colab": {
          "base_uri": "https://localhost:8080/"
        },
        "id": "TX_fxyiP7AmU",
        "outputId": "42949238-1a95-4b4a-e62f-95a659fe73c7"
      },
      "execution_count": null,
      "outputs": [
        {
          "output_type": "execute_result",
          "data": {
            "text/plain": [
              "array([list([1, 2, 3, 4, 5]), list([10, 20, 30, 40])], dtype=object)"
            ]
          },
          "metadata": {},
          "execution_count": 19
        }
      ]
    },
    {
      "cell_type": "code",
      "source": [
        "type(a2) # type of the array"
      ],
      "metadata": {
        "colab": {
          "base_uri": "https://localhost:8080/"
        },
        "id": "QmEvWuu87FIU",
        "outputId": "999fc49f-1902-4169-fb03-e4078b268f1a"
      },
      "execution_count": null,
      "outputs": [
        {
          "output_type": "execute_result",
          "data": {
            "text/plain": [
              "numpy.ndarray"
            ]
          },
          "metadata": {},
          "execution_count": 9
        }
      ]
    },
    {
      "cell_type": "markdown",
      "source": [
        "*  Making Zeroes of all elements"
      ],
      "metadata": {
        "id": "rCfg817OE0_B"
      }
    },
    {
      "cell_type": "code",
      "source": [
        "a1 = np.zeros((1,5))"
      ],
      "metadata": {
        "id": "khaEBUeL7Swh"
      },
      "execution_count": null,
      "outputs": []
    },
    {
      "cell_type": "code",
      "source": [
        "a1"
      ],
      "metadata": {
        "colab": {
          "base_uri": "https://localhost:8080/"
        },
        "id": "6aQ65Do07qlM",
        "outputId": "2c1df37b-2eba-48a1-bcaf-d77484d99b3f"
      },
      "execution_count": null,
      "outputs": [
        {
          "output_type": "execute_result",
          "data": {
            "text/plain": [
              "array([[0., 0., 0., 0., 0.]])"
            ]
          },
          "metadata": {},
          "execution_count": 12
        }
      ]
    },
    {
      "cell_type": "code",
      "source": [
        "a2 = np.zeros((5,5))\n",
        "a2"
      ],
      "metadata": {
        "colab": {
          "base_uri": "https://localhost:8080/"
        },
        "id": "9i8n-FM87vWM",
        "outputId": "de35f504-6e3d-4433-c47d-9672b31f879c"
      },
      "execution_count": null,
      "outputs": [
        {
          "output_type": "execute_result",
          "data": {
            "text/plain": [
              "array([[0., 0., 0., 0., 0.],\n",
              "       [0., 0., 0., 0., 0.],\n",
              "       [0., 0., 0., 0., 0.],\n",
              "       [0., 0., 0., 0., 0.],\n",
              "       [0., 0., 0., 0., 0.]])"
            ]
          },
          "metadata": {},
          "execution_count": 13
        }
      ]
    },
    {
      "cell_type": "markdown",
      "source": [
        "*  Making The All elements same\n",
        "\n",
        "\n",
        "\n",
        "full((size of the array along with the dimension), Value)"
      ],
      "metadata": {
        "id": "BaQ4DmzUE71Q"
      }
    },
    {
      "cell_type": "code",
      "source": [
        "k = np.full((3,3,3),1)"
      ],
      "metadata": {
        "id": "AbgGjhEX8Ylf"
      },
      "execution_count": 113,
      "outputs": []
    },
    {
      "cell_type": "code",
      "source": [
        "k"
      ],
      "metadata": {
        "colab": {
          "base_uri": "https://localhost:8080/"
        },
        "id": "daEvcMp_FMws",
        "outputId": "3ff92940-de93-4854-f8c9-28db83d07319"
      },
      "execution_count": 114,
      "outputs": [
        {
          "output_type": "execute_result",
          "data": {
            "text/plain": [
              "array([[[1, 1, 1],\n",
              "        [1, 1, 1],\n",
              "        [1, 1, 1]],\n",
              "\n",
              "       [[1, 1, 1],\n",
              "        [1, 1, 1],\n",
              "        [1, 1, 1]],\n",
              "\n",
              "       [[1, 1, 1],\n",
              "        [1, 1, 1],\n",
              "        [1, 1, 1]]])"
            ]
          },
          "metadata": {},
          "execution_count": 114
        }
      ]
    },
    {
      "cell_type": "markdown",
      "source": [
        "*  Declare range of the arrray\n",
        "\n",
        "(initial value, Final Value, Increment)"
      ],
      "metadata": {
        "id": "DPylSMwkLjVO"
      }
    },
    {
      "cell_type": "code",
      "source": [
        "l = np.arange(90,99,8)"
      ],
      "metadata": {
        "id": "3K7bT7_3FUXb"
      },
      "execution_count": null,
      "outputs": []
    },
    {
      "cell_type": "code",
      "source": [
        "l"
      ],
      "metadata": {
        "colab": {
          "base_uri": "https://localhost:8080/"
        },
        "id": "XKHi60SyF-2f",
        "outputId": "41667ab3-158b-4280-85ed-dc962479435b"
      },
      "execution_count": null,
      "outputs": [
        {
          "output_type": "execute_result",
          "data": {
            "text/plain": [
              "array([90, 98])"
            ]
          },
          "metadata": {},
          "execution_count": 73
        }
      ]
    },
    {
      "cell_type": "markdown",
      "source": [
        "*  Passing random values\n",
        "\n",
        "random.randint(start value,endvalue, Number of elements)"
      ],
      "metadata": {
        "id": "GnsBvMprOrwA"
      }
    },
    {
      "cell_type": "code",
      "source": [
        " import numpy as np"
      ],
      "metadata": {
        "id": "gQm0La1rF_oK"
      },
      "execution_count": null,
      "outputs": []
    },
    {
      "cell_type": "code",
      "source": [
        "r = np.random.randint(3,7,4)\n",
        "r"
      ],
      "metadata": {
        "colab": {
          "base_uri": "https://localhost:8080/"
        },
        "id": "n7fubLzNHt2I",
        "outputId": "727c6167-add6-4780-f2b1-340b261ac9e4"
      },
      "execution_count": null,
      "outputs": [
        {
          "output_type": "execute_result",
          "data": {
            "text/plain": [
              "array([3, 6, 3, 6])"
            ]
          },
          "metadata": {},
          "execution_count": 80
        }
      ]
    },
    {
      "cell_type": "markdown",
      "source": [
        "*  Random float points using rand\n",
        "\n",
        "random.rand(number of rows or dimentions, number of rows in single dimension,Number of cloumns)"
      ],
      "metadata": {
        "id": "ltR1IpePPAl3"
      }
    },
    {
      "cell_type": "code",
      "source": [
        "ir = np.random.rand(2,5,4)\n",
        "ir"
      ],
      "metadata": {
        "colab": {
          "base_uri": "https://localhost:8080/"
        },
        "id": "TQXt5mxnH3ha",
        "outputId": "c75d16bf-6a96-435d-a584-849380b83544"
      },
      "execution_count": null,
      "outputs": [
        {
          "output_type": "execute_result",
          "data": {
            "text/plain": [
              "array([[[0.85273206, 0.28958883, 0.87866551, 0.94574652],\n",
              "        [0.12181155, 0.59262505, 0.20712191, 0.5142399 ],\n",
              "        [0.06381569, 0.72896195, 0.1888137 , 0.72344889],\n",
              "        [0.24185891, 0.3577034 , 0.37453504, 0.23581322],\n",
              "        [0.66992718, 0.38863676, 0.25526386, 0.773159  ]],\n",
              "\n",
              "       [[0.31008368, 0.20027366, 0.43278066, 0.74444885],\n",
              "        [0.89748475, 0.66243957, 0.75853795, 0.97836724],\n",
              "        [0.5296578 , 0.49393908, 0.48572778, 0.83055239],\n",
              "        [0.27158704, 0.6976168 , 0.73196061, 0.10320711],\n",
              "        [0.27813358, 0.56517061, 0.04490238, 0.32414503]]])"
            ]
          },
          "metadata": {},
          "execution_count": 93
        }
      ]
    },
    {
      "cell_type": "markdown",
      "source": [
        "*  Shape and Reshape"
      ],
      "metadata": {
        "id": "X3j8wCrHQXmJ"
      }
    },
    {
      "cell_type": "code",
      "source": [
        "w = np.array([[[0.46632969, 0.3848112 , 0.83590619, 0.44005272], [0.9816671 , 0.10282616, 0.11472637, 0.28133451]], [[0.50586517, 0.2071658 , 0.99934125, 0.06517334], [0.93871074, 0.00633421, 0.5426788 , 0.85028254]]])\n",
        "w.shape"
      ],
      "metadata": {
        "colab": {
          "base_uri": "https://localhost:8080/"
        },
        "id": "pB7v8PhnPfjM",
        "outputId": "6de9241c-0015-4b95-a388-162d154305ab"
      },
      "execution_count": null,
      "outputs": [
        {
          "output_type": "execute_result",
          "data": {
            "text/plain": [
              "(2, 2, 4)"
            ]
          },
          "metadata": {},
          "execution_count": 92
        }
      ]
    },
    {
      "cell_type": "code",
      "source": [
        "w.shape = (2,4,2)"
      ],
      "metadata": {
        "id": "w8RbCibIIDPa"
      },
      "execution_count": null,
      "outputs": []
    },
    {
      "cell_type": "code",
      "source": [
        "w"
      ],
      "metadata": {
        "colab": {
          "base_uri": "https://localhost:8080/"
        },
        "id": "ugel2lXJRGRD",
        "outputId": "2877c057-2f24-4e86-e111-a7366ed50f5f"
      },
      "execution_count": null,
      "outputs": [
        {
          "output_type": "execute_result",
          "data": {
            "text/plain": [
              "array([[[0.46632969, 0.3848112 ],\n",
              "        [0.83590619, 0.44005272],\n",
              "        [0.9816671 , 0.10282616],\n",
              "        [0.11472637, 0.28133451]],\n",
              "\n",
              "       [[0.50586517, 0.2071658 ],\n",
              "        [0.99934125, 0.06517334],\n",
              "        [0.93871074, 0.00633421],\n",
              "        [0.5426788 , 0.85028254]]])"
            ]
          },
          "metadata": {},
          "execution_count": 99
        }
      ]
    },
    {
      "cell_type": "code",
      "source": [
        "z = np.array([[1,2,3,4],[5,6,7,8]])\n",
        "z.shape = (4,2)\n",
        "z\n"
      ],
      "metadata": {
        "colab": {
          "base_uri": "https://localhost:8080/"
        },
        "id": "PI_hf2HQ1TQe",
        "outputId": "8d74f431-fbd2-487c-eb0f-62fed78d6eec"
      },
      "execution_count": 120,
      "outputs": [
        {
          "output_type": "execute_result",
          "data": {
            "text/plain": [
              "array([[1, 2],\n",
              "       [3, 4],\n",
              "       [5, 6],\n",
              "       [7, 8]])"
            ]
          },
          "metadata": {},
          "execution_count": 120
        }
      ]
    },
    {
      "cell_type": "markdown",
      "source": [
        "Working with stack menthods in numpy, We have\n",
        "*  vstack()\n",
        "*  hstack()\n",
        "*  column_stack()"
      ],
      "metadata": {
        "id": "FGdUdssGR550"
      }
    },
    {
      "cell_type": "markdown",
      "source": [
        "V stack():\n",
        "Merge n arrays in 2 dimension"
      ],
      "metadata": {
        "id": "smEqn2cpyMp9"
      }
    },
    {
      "cell_type": "code",
      "source": [
        "import numpy as np\n",
        "e = np.array([1,2,3])\n",
        "f = np.array([4,5,6])\n",
        "g = np.array([10,11,12])\n",
        "np.vstack((e,f,g))"
      ],
      "metadata": {
        "id": "_m44HPL5RUPt",
        "colab": {
          "base_uri": "https://localhost:8080/"
        },
        "outputId": "b74994e0-67fc-4657-a7a4-a900929c192b"
      },
      "execution_count": 131,
      "outputs": [
        {
          "output_type": "execute_result",
          "data": {
            "text/plain": [
              "array([[ 1,  2,  3],\n",
              "       [ 4,  5,  6],\n",
              "       [10, 11, 12]])"
            ]
          },
          "metadata": {},
          "execution_count": 131
        }
      ]
    },
    {
      "cell_type": "markdown",
      "source": [
        "hstack():\n",
        "Merge arrays into single dimension"
      ],
      "metadata": {
        "id": "Q5_f2DRc7vV5"
      }
    },
    {
      "cell_type": "code",
      "source": [
        "np.hstack((e,f))"
      ],
      "metadata": {
        "id": "ilXdhERRzECi",
        "colab": {
          "base_uri": "https://localhost:8080/"
        },
        "outputId": "f8de7b89-1516-443a-cafc-89f60071fc01"
      },
      "execution_count": 105,
      "outputs": [
        {
          "output_type": "execute_result",
          "data": {
            "text/plain": [
              "array([1, 2, 3, 4, 5, 6])"
            ]
          },
          "metadata": {},
          "execution_count": 105
        }
      ]
    },
    {
      "cell_type": "markdown",
      "source": [
        "column_stack():\n",
        "merge the same column elements as on array"
      ],
      "metadata": {
        "id": "c7TXbkv48AyB"
      }
    },
    {
      "cell_type": "code",
      "source": [
        "np.column_stack((e,f))"
      ],
      "metadata": {
        "colab": {
          "base_uri": "https://localhost:8080/"
        },
        "id": "J9RmzOquz6Zp",
        "outputId": "a222580a-60ce-4803-cdd1-0e13a7188bbe"
      },
      "execution_count": 107,
      "outputs": [
        {
          "output_type": "execute_result",
          "data": {
            "text/plain": [
              "array([[1, 4],\n",
              "       [2, 5],\n",
              "       [3, 6]])"
            ]
          },
          "metadata": {},
          "execution_count": 107
        }
      ]
    },
    {
      "cell_type": "markdown",
      "source": [
        "Intersection and Difference"
      ],
      "metadata": {
        "id": "7GQhHG-r2v-f"
      }
    },
    {
      "cell_type": "code",
      "source": [
        "q = np.array([19,67,38])\n",
        "p = np.array([45,67,31])\n",
        "np.intersect1d(q,p) # Return the common element"
      ],
      "metadata": {
        "colab": {
          "base_uri": "https://localhost:8080/"
        },
        "id": "zEJcygJv0ANh",
        "outputId": "5deaa666-9c5d-4a0d-f47a-0f3af7ee8fc0"
      },
      "execution_count": 122,
      "outputs": [
        {
          "output_type": "execute_result",
          "data": {
            "text/plain": [
              "array([67])"
            ]
          },
          "metadata": {},
          "execution_count": 122
        }
      ]
    },
    {
      "cell_type": "code",
      "source": [
        "np.setdiff1d(q,p) # Returns the different elements in 1 compared to 2"
      ],
      "metadata": {
        "colab": {
          "base_uri": "https://localhost:8080/"
        },
        "id": "bnvHGMT63YzI",
        "outputId": "74ca036d-05ca-409f-f01a-2f30aa8e6f44"
      },
      "execution_count": 123,
      "outputs": [
        {
          "output_type": "execute_result",
          "data": {
            "text/plain": [
              "array([19, 38])"
            ]
          },
          "metadata": {},
          "execution_count": 123
        }
      ]
    },
    {
      "cell_type": "code",
      "source": [
        "np.setdiff1d(p,q) # same as above"
      ],
      "metadata": {
        "colab": {
          "base_uri": "https://localhost:8080/"
        },
        "id": "vbGdDTN14dy-",
        "outputId": "b97efe91-0353-4e4d-e4c7-6919fa000ca3"
      },
      "execution_count": 124,
      "outputs": [
        {
          "output_type": "execute_result",
          "data": {
            "text/plain": [
              "array([31, 45])"
            ]
          },
          "metadata": {},
          "execution_count": 124
        }
      ]
    },
    {
      "cell_type": "markdown",
      "source": [
        "####Numpy array Mathemaics"
      ],
      "metadata": {
        "id": "4PIUPEaB6SCe"
      }
    },
    {
      "cell_type": "code",
      "source": [
        "np.sum([q,p],axis =1) # add array elements within"
      ],
      "metadata": {
        "colab": {
          "base_uri": "https://localhost:8080/"
        },
        "id": "7MOXw8HM4plq",
        "outputId": "a6675d48-1871-4327-e3cd-f863ccbe550f"
      },
      "execution_count": 129,
      "outputs": [
        {
          "output_type": "execute_result",
          "data": {
            "text/plain": [
              "array([124, 143])"
            ]
          },
          "metadata": {},
          "execution_count": 129
        }
      ]
    },
    {
      "cell_type": "code",
      "source": [
        "np.sum([q,p], axis =0) # add two arrays"
      ],
      "metadata": {
        "colab": {
          "base_uri": "https://localhost:8080/"
        },
        "id": "uKWWRQrP5Nv4",
        "outputId": "5a5301b6-6a2a-41a6-f880-9e6ecc5cbdbc"
      },
      "execution_count": 130,
      "outputs": [
        {
          "output_type": "execute_result",
          "data": {
            "text/plain": [
              "array([ 64, 134,  69])"
            ]
          },
          "metadata": {},
          "execution_count": 130
        }
      ]
    },
    {
      "cell_type": "code",
      "source": [
        "np.sum([q,p]) # Add all the elements"
      ],
      "metadata": {
        "colab": {
          "base_uri": "https://localhost:8080/"
        },
        "id": "sRI-1xcr58-a",
        "outputId": "b3f88b3b-d78e-4da5-f74b-9ea5167f28ec"
      },
      "execution_count": 132,
      "outputs": [
        {
          "output_type": "execute_result",
          "data": {
            "text/plain": [
              "267"
            ]
          },
          "metadata": {},
          "execution_count": 132
        }
      ]
    },
    {
      "cell_type": "code",
      "source": [
        "q = q +1 # adding the scalar to the numpy array\n",
        "# Basic Addition\n",
        "q"
      ],
      "metadata": {
        "colab": {
          "base_uri": "https://localhost:8080/"
        },
        "id": "_Q491XV68gRf",
        "outputId": "08832963-6259-4741-ddb5-ffa9db1440d2"
      },
      "execution_count": 133,
      "outputs": [
        {
          "output_type": "execute_result",
          "data": {
            "text/plain": [
              "array([20, 68, 39])"
            ]
          },
          "metadata": {},
          "execution_count": 133
        }
      ]
    },
    {
      "cell_type": "code",
      "source": [
        "q = q-4 # Basic subtraction\n",
        "q"
      ],
      "metadata": {
        "colab": {
          "base_uri": "https://localhost:8080/"
        },
        "id": "bGj1E3609JVF",
        "outputId": "130bed4d-a02d-4bd4-b0ee-88e179826cd6"
      },
      "execution_count": 135,
      "outputs": [
        {
          "output_type": "execute_result",
          "data": {
            "text/plain": [
              "array([12, 60, 31])"
            ]
          },
          "metadata": {},
          "execution_count": 135
        }
      ]
    },
    {
      "cell_type": "code",
      "source": [
        "q = q*5 # Basic Multipliacation\n",
        "q"
      ],
      "metadata": {
        "colab": {
          "base_uri": "https://localhost:8080/"
        },
        "id": "SnTDmm2j9lDk",
        "outputId": "a1bd6841-7bd8-4e5d-871c-63070e02e462"
      },
      "execution_count": 137,
      "outputs": [
        {
          "output_type": "execute_result",
          "data": {
            "text/plain": [
              "array([ 300, 1500,  775])"
            ]
          },
          "metadata": {},
          "execution_count": 137
        }
      ]
    },
    {
      "cell_type": "code",
      "source": [
        "q = q/7 # Basc division\n",
        "q"
      ],
      "metadata": {
        "colab": {
          "base_uri": "https://localhost:8080/"
        },
        "id": "7rBbbzPM90bQ",
        "outputId": "84fe1f2f-8f80-4caa-da75-948a967d5726"
      },
      "execution_count": 138,
      "outputs": [
        {
          "output_type": "execute_result",
          "data": {
            "text/plain": [
              "array([ 42.85714286, 214.28571429, 110.71428571])"
            ]
          },
          "metadata": {},
          "execution_count": 138
        }
      ]
    },
    {
      "cell_type": "markdown",
      "source": [
        "* Basic Math Functions"
      ],
      "metadata": {
        "id": "Rwu3J5V0-Ebp"
      }
    },
    {
      "cell_type": "code",
      "source": [
        "t = np.array([21,32,43,54,60,57,67,89])\n",
        "np.mean(t) # Mean"
      ],
      "metadata": {
        "colab": {
          "base_uri": "https://localhost:8080/"
        },
        "id": "Lxu4RQFz95p1",
        "outputId": "0103c826-d27a-41e5-de04-fa987238d296"
      },
      "execution_count": 141,
      "outputs": [
        {
          "output_type": "execute_result",
          "data": {
            "text/plain": [
              "52.875"
            ]
          },
          "metadata": {},
          "execution_count": 141
        }
      ]
    },
    {
      "cell_type": "code",
      "source": [
        "np.median(t) # Median"
      ],
      "metadata": {
        "colab": {
          "base_uri": "https://localhost:8080/"
        },
        "id": "esapPVne-1Jc",
        "outputId": "8bf035db-8f95-479e-b51f-bd365ed5af03"
      },
      "execution_count": 144,
      "outputs": [
        {
          "output_type": "execute_result",
          "data": {
            "text/plain": [
              "55.5"
            ]
          },
          "metadata": {},
          "execution_count": 144
        }
      ]
    },
    {
      "cell_type": "code",
      "source": [
        "np.std(t) # Standard Deviation"
      ],
      "metadata": {
        "colab": {
          "base_uri": "https://localhost:8080/"
        },
        "id": "lLdjwGlz_FtR",
        "outputId": "641eff53-713c-453f-b472-ac0e431ebfd3"
      },
      "execution_count": 145,
      "outputs": [
        {
          "output_type": "execute_result",
          "data": {
            "text/plain": [
              "19.757514393263136"
            ]
          },
          "metadata": {},
          "execution_count": 145
        }
      ]
    },
    {
      "cell_type": "code",
      "source": [],
      "metadata": {
        "id": "o8j3Kw3o_QMV"
      },
      "execution_count": null,
      "outputs": []
    }
  ]
}